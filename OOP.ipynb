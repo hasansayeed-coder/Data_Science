{
 "cells": [
  {
   "cell_type": "code",
   "execution_count": 4,
   "id": "7e9d63e9-30e0-485d-ac7f-a8f8fa267197",
   "metadata": {},
   "outputs": [
    {
     "ename": "AttributeError",
     "evalue": "'list' object has no attribute 'upper'",
     "output_type": "error",
     "traceback": [
      "\u001b[1;31m---------------------------------------------------------------------------\u001b[0m",
      "\u001b[1;31mAttributeError\u001b[0m                            Traceback (most recent call last)",
      "Cell \u001b[1;32mIn[4], line 2\u001b[0m\n\u001b[0;32m      1\u001b[0m L \u001b[38;5;241m=\u001b[39m [\u001b[38;5;241m1\u001b[39m,\u001b[38;5;241m2\u001b[39m,\u001b[38;5;241m3\u001b[39m]\n\u001b[1;32m----> 2\u001b[0m \u001b[43mL\u001b[49m\u001b[38;5;241;43m.\u001b[39;49m\u001b[43mupper\u001b[49m()\n",
      "\u001b[1;31mAttributeError\u001b[0m: 'list' object has no attribute 'upper'"
     ]
    }
   ],
   "source": [
    "L = [1,2,3]\n",
    "L.upper()"
   ]
  },
  {
   "cell_type": "code",
   "execution_count": 2,
   "id": "00b357c1-adce-41e2-9dfd-745a9bde0a30",
   "metadata": {},
   "outputs": [
    {
     "ename": "AttributeError",
     "evalue": "'str' object has no attribute 'append'",
     "output_type": "error",
     "traceback": [
      "\u001b[1;31m---------------------------------------------------------------------------\u001b[0m",
      "\u001b[1;31mAttributeError\u001b[0m                            Traceback (most recent call last)",
      "Cell \u001b[1;32mIn[2], line 2\u001b[0m\n\u001b[0;32m      1\u001b[0m s \u001b[38;5;241m=\u001b[39m \u001b[38;5;124m'\u001b[39m\u001b[38;5;124mhello\u001b[39m\u001b[38;5;124m'\u001b[39m\n\u001b[1;32m----> 2\u001b[0m \u001b[43ms\u001b[49m\u001b[38;5;241;43m.\u001b[39;49m\u001b[43mappend\u001b[49m(\u001b[38;5;124m'\u001b[39m\u001b[38;5;124mx\u001b[39m\u001b[38;5;124m'\u001b[39m)\n",
      "\u001b[1;31mAttributeError\u001b[0m: 'str' object has no attribute 'append'"
     ]
    }
   ],
   "source": [
    "s = 'hello'\n",
    "s.append('x')"
   ]
  },
  {
   "cell_type": "code",
   "execution_count": 3,
   "id": "0344053c-1785-48a8-883a-333e7fd8f5c8",
   "metadata": {},
   "outputs": [
    {
     "name": "stdout",
     "output_type": "stream",
     "text": [
      "<class 'list'>\n"
     ]
    }
   ],
   "source": [
    "L = [1,2,3]\n",
    "print(type(L))"
   ]
  },
  {
   "cell_type": "code",
   "execution_count": 5,
   "id": "a9d1fd91-4451-414e-9ed0-190f7dbc08db",
   "metadata": {},
   "outputs": [],
   "source": [
    "s = [1,2,3]"
   ]
  },
  {
   "cell_type": "code",
   "execution_count": 6,
   "id": "2bc34395-6087-44f9-a94c-3e3a8518fddd",
   "metadata": {},
   "outputs": [],
   "source": [
    "#syntax to create an object\n",
    "\n",
    "#objectName = classname()"
   ]
  },
  {
   "cell_type": "code",
   "execution_count": 7,
   "id": "a7b1dccf-5ab9-4c6e-8b6e-7e7c10c01592",
   "metadata": {},
   "outputs": [],
   "source": [
    "#object literal\n",
    "L = [1 , 2 , 3]"
   ]
  },
  {
   "cell_type": "code",
   "execution_count": 9,
   "id": "43f44810-18a6-43a6-b654-9a14df1d712c",
   "metadata": {},
   "outputs": [
    {
     "data": {
      "text/plain": [
       "list"
      ]
     },
     "execution_count": 9,
     "metadata": {},
     "output_type": "execute_result"
    }
   ],
   "source": [
    "L = list()\n",
    "type(L)"
   ]
  },
  {
   "cell_type": "code",
   "execution_count": 10,
   "id": "c14194b6-c33b-4f10-a346-65bd14d40ac4",
   "metadata": {},
   "outputs": [
    {
     "data": {
      "text/plain": [
       "str"
      ]
     },
     "execution_count": 10,
     "metadata": {},
     "output_type": "execute_result"
    }
   ],
   "source": [
    "s = str()\n",
    "type(s)"
   ]
  },
  {
   "cell_type": "code",
   "execution_count": 12,
   "id": "cfef1f00-acda-46db-8933-a9148cbce0d1",
   "metadata": {},
   "outputs": [],
   "source": [
    "#Pascal Case\n",
    "#HelloWorld"
   ]
  },
  {
   "cell_type": "code",
   "execution_count": 18,
   "id": "689709f6-aaf4-4db6-af0f-568858d8fbb3",
   "metadata": {},
   "outputs": [],
   "source": [
    "class Atm :\n",
    "    #constructor (special functor) -> superpower ->\n",
    "    def __init__(self): \n",
    "        \n",
    "        print(id(self))\n",
    "        self.pin = ''\n",
    "        self.balance = 0\n",
    "        self.menu()\n",
    "        \n",
    "    def menu(self) : \n",
    "        user_input = input(\"\"\"\n",
    "        Hi how can I help you?\n",
    "        1. Press 1 to create pin\n",
    "        2. Press 2 to change pin\n",
    "        3. Press 3 to check balance\n",
    "        4. Press 4 to withdraw\n",
    "        5. Anything else to exit\n",
    "        \"\"\")\n",
    "        if(user_input == '1'):\n",
    "            self.create_pin()\n",
    "\n",
    "        elif(user_input == '2') :\n",
    "            self.change_pin()\n",
    "\n",
    "        elif(user_input == '5') : \n",
    "            exit()\n",
    "\n",
    "    def create_pin(self):\n",
    "        user_pin = input('enter your pin')\n",
    "        self.pin = user_pin\n",
    "\n",
    "        user_balance = input('enter balance')\n",
    "        self.balance = user_balance\n",
    "\n",
    "        print('pin created successfully')\n",
    "        self.menu()\n",
    "\n",
    "    def change_pin(self):\n",
    "        old_pin = input('enter old pin')\n",
    "\n",
    "        if(oid_pin == self.pin) :\n",
    "            new_pin = input('enter new pin')\n",
    "            self.pin = new_pin\n",
    "            print('pin change successful')\n",
    "            self.menu()\n",
    "        else : \n",
    "            print('Wrong Password!')\n",
    "            self.menu()\n",
    "\n",
    "    def check_balance(self) :\n",
    "        user_pin = input('enter your pin')\n",
    "        if(user_pin == self.pin) :\n",
    "            print('your balance is ' , self.balance)\n",
    "        else : \n",
    "            print('Plz get out of here')\n",
    "\n",
    "    def withdraw(self) : \n",
    "        user_pin = input('enter the pin')\n",
    "\n",
    "        if(user_pin == self.pin) :\n",
    "            amount = int(input('enter the amount'))\n",
    "            if(amount <= self.balance) :\n",
    "                self.balance -= self.amount\n",
    "                print('withdrawal successful. Balance is ' , self.balance)\n",
    "            else:\n",
    "                print('Poor!')\n",
    "        else : \n",
    "            print('Trying to access another account')\n",
    "\n",
    "        self.menu()\n",
    "            \n",
    "    "
   ]
  },
  {
   "cell_type": "code",
   "execution_count": 19,
   "id": "ee18b739-3fff-40bc-8729-bcb2241d1bdb",
   "metadata": {},
   "outputs": [
    {
     "name": "stdout",
     "output_type": "stream",
     "text": [
      "1914125572416\n"
     ]
    },
    {
     "name": "stdin",
     "output_type": "stream",
     "text": [
      "\n",
      "        Hi how can I help you?\n",
      "        1. Press 1 to create pin\n",
      "        2. Press 2 to change pin\n",
      "        3. Press 3 to check balance\n",
      "        4. Press 4 to withdraw\n",
      "        5. Anything else to exit\n",
      "         5\n"
     ]
    }
   ],
   "source": []
  },
  {
   "cell_type": "code",
   "execution_count": 1,
   "id": "7b46dcda-6ea8-44f3-92a2-f22ca4a1b96f",
   "metadata": {},
   "outputs": [
    {
     "ename": "NameError",
     "evalue": "name 'obj' is not defined",
     "output_type": "error",
     "traceback": [
      "\u001b[1;31m---------------------------------------------------------------------------\u001b[0m",
      "\u001b[1;31mNameError\u001b[0m                                 Traceback (most recent call last)",
      "Cell \u001b[1;32mIn[1], line 1\u001b[0m\n\u001b[1;32m----> 1\u001b[0m \u001b[38;5;28mid\u001b[39m(\u001b[43mobj\u001b[49m)\n",
      "\u001b[1;31mNameError\u001b[0m: name 'obj' is not defined"
     ]
    }
   ],
   "source": [
    "id(obj)"
   ]
  },
  {
   "cell_type": "code",
   "execution_count": 2,
   "id": "cb781c69-0a49-46b5-9ba5-c59e08fb577b",
   "metadata": {},
   "outputs": [
    {
     "ename": "TypeError",
     "evalue": "list.append() takes exactly one argument (0 given)",
     "output_type": "error",
     "traceback": [
      "\u001b[1;31m---------------------------------------------------------------------------\u001b[0m",
      "\u001b[1;31mTypeError\u001b[0m                                 Traceback (most recent call last)",
      "Cell \u001b[1;32mIn[2], line 3\u001b[0m\n\u001b[0;32m      1\u001b[0m L \u001b[38;5;241m=\u001b[39m [\u001b[38;5;241m1\u001b[39m,\u001b[38;5;241m2\u001b[39m,\u001b[38;5;241m3\u001b[39m]\n\u001b[0;32m      2\u001b[0m \u001b[38;5;28mlen\u001b[39m(L)\n\u001b[1;32m----> 3\u001b[0m \u001b[43mL\u001b[49m\u001b[38;5;241;43m.\u001b[39;49m\u001b[43mappend\u001b[49m\u001b[43m(\u001b[49m\u001b[43m)\u001b[49m\n",
      "\u001b[1;31mTypeError\u001b[0m: list.append() takes exactly one argument (0 given)"
     ]
    }
   ],
   "source": [
    "L = [1,2,3]\n",
    "len(L)\n",
    "L.append()"
   ]
  },
  {
   "cell_type": "code",
   "execution_count": 3,
   "id": "31bf4d2a-d5a1-4f28-bf6a-0895b8401b77",
   "metadata": {},
   "outputs": [
    {
     "name": "stdout",
     "output_type": "stream",
     "text": [
      "Hello\n"
     ]
    }
   ],
   "source": [
    "class Temp : \n",
    "    def __init__(self) : \n",
    "        print('Hello')\n",
    "\n",
    "obj1 = Temp()"
   ]
  },
  {
   "cell_type": "code",
   "execution_count": null,
   "id": "b4b6796f-961c-42af-91fb-d99bc24cd7ff",
   "metadata": {},
   "outputs": [],
   "source": [
    "class Fraction : \n",
    "\n",
    "    def __init__(self , x , y) : \n",
    "        self.num = x\n",
    "        self.den = y\n",
    "\n",
    "    def __ str__(self) : \n",
    "        return '{}/{}'.format(self.num , self.den)\n",
    "\n",
    "    def __add__(self , other):\n",
    "        new_num = self.num * other.den + other.num * self.den\n",
    "        new_den = self.den * other.den\n",
    "\n",
    "        return '{} / {}'.format(new_num , new_den)\n",
    "\n",
    "    def __sub__(self , other) : \n",
    "        new_num = self.num * other.den - other.num * self.den\n",
    "        new_den = self.den * other.den\n",
    "\n",
    "        return '{}/{}'.format(new_num , new_den)\n",
    "\n",
    "    "
   ]
  }
 ],
 "metadata": {
  "kernelspec": {
   "display_name": "Python 3 (ipykernel)",
   "language": "python",
   "name": "python3"
  },
  "language_info": {
   "codemirror_mode": {
    "name": "ipython",
    "version": 3
   },
   "file_extension": ".py",
   "mimetype": "text/x-python",
   "name": "python",
   "nbconvert_exporter": "python",
   "pygments_lexer": "ipython3",
   "version": "3.12.4"
  }
 },
 "nbformat": 4,
 "nbformat_minor": 5
}
