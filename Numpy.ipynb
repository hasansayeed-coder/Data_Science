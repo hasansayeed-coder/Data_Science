{
 "cells": [
  {
   "cell_type": "code",
   "execution_count": 1,
   "id": "6a353e89-689a-46ed-b251-006da00b1316",
   "metadata": {},
   "outputs": [
    {
     "name": "stdout",
     "output_type": "stream",
     "text": [
      "[1 2 3]\n"
     ]
    }
   ],
   "source": [
    " #np.array\n",
    "\n",
    "import numpy as np\n",
    "\n",
    "a = np.array([1,2,3])\n",
    "print(a)"
   ]
  },
  {
   "cell_type": "code",
   "execution_count": 2,
   "id": "3ed44a14-ac0c-492e-b086-23aae7ef6613",
   "metadata": {},
   "outputs": [
    {
     "name": "stdout",
     "output_type": "stream",
     "text": [
      "[[1 2 3]\n",
      " [4 5 6]]\n"
     ]
    }
   ],
   "source": [
    "#2D and 3D array\n",
    "\n",
    "b = np.array([[1,2,3] , [4,5,6]])\n",
    "print(b)"
   ]
  },
  {
   "cell_type": "code",
   "execution_count": 3,
   "id": "fc55a9b8-5e84-4d3c-ad92-81c48a20753d",
   "metadata": {},
   "outputs": [
    {
     "name": "stdout",
     "output_type": "stream",
     "text": [
      "[[[1 2]\n",
      "  [3 4]]\n",
      "\n",
      " [[5 6]\n",
      "  [7 8]]]\n"
     ]
    }
   ],
   "source": [
    "c = np.array([[[1,2] , [3,4]] , [[5,6] , [7,8]]])\n",
    "print(c)"
   ]
  },
  {
   "cell_type": "code",
   "execution_count": 4,
   "id": "4d14078b-c991-40be-9288-57e583e936f4",
   "metadata": {},
   "outputs": [
    {
     "data": {
      "text/plain": [
       "array([1., 2., 3.])"
      ]
     },
     "execution_count": 4,
     "metadata": {},
     "output_type": "execute_result"
    }
   ],
   "source": [
    "#dtype\n",
    "np.array([1,2,3] , dtype = float)"
   ]
  },
  {
   "cell_type": "code",
   "execution_count": 5,
   "id": "b59270be-5c9b-47ec-b498-4440e9483882",
   "metadata": {},
   "outputs": [
    {
     "data": {
      "text/plain": [
       "array([1, 3, 5, 7, 9])"
      ]
     },
     "execution_count": 5,
     "metadata": {},
     "output_type": "execute_result"
    }
   ],
   "source": [
    "np.arange(1,11 ,2)"
   ]
  },
  {
   "cell_type": "code",
   "execution_count": 6,
   "id": "318f206a-3a02-44a0-a35a-6f96ecf76c15",
   "metadata": {},
   "outputs": [
    {
     "data": {
      "text/plain": [
       "array([[[[ 0,  1],\n",
       "         [ 2,  3]],\n",
       "\n",
       "        [[ 4,  5],\n",
       "         [ 6,  7]]],\n",
       "\n",
       "\n",
       "       [[[ 8,  9],\n",
       "         [10, 11]],\n",
       "\n",
       "        [[12, 13],\n",
       "         [14, 15]]]])"
      ]
     },
     "execution_count": 6,
     "metadata": {},
     "output_type": "execute_result"
    }
   ],
   "source": [
    "np.arange(16).reshape(2 , 2 , 2 , 2)"
   ]
  },
  {
   "cell_type": "code",
   "execution_count": 7,
   "id": "f8cd5133-db0a-452b-a81f-406e24c0e758",
   "metadata": {},
   "outputs": [
    {
     "data": {
      "text/plain": [
       "array([[1., 1., 1., 1.],\n",
       "       [1., 1., 1., 1.],\n",
       "       [1., 1., 1., 1.]])"
      ]
     },
     "execution_count": 7,
     "metadata": {},
     "output_type": "execute_result"
    }
   ],
   "source": [
    "#np.ones and np.zeroes\n",
    "np.ones((3 , 4))"
   ]
  },
  {
   "cell_type": "code",
   "execution_count": 9,
   "id": "52deb8b8-9ef1-42fe-beb7-06e028b95a3c",
   "metadata": {},
   "outputs": [
    {
     "data": {
      "text/plain": [
       "array([[0., 0., 0., 0.],\n",
       "       [0., 0., 0., 0.],\n",
       "       [0., 0., 0., 0.]])"
      ]
     },
     "execution_count": 9,
     "metadata": {},
     "output_type": "execute_result"
    }
   ],
   "source": [
    "np.zeros((3,4))"
   ]
  },
  {
   "cell_type": "code",
   "execution_count": 10,
   "id": "a7d0f5a7-141b-4f56-bc94-1f5186820a19",
   "metadata": {},
   "outputs": [
    {
     "data": {
      "text/plain": [
       "array([[0.44653828, 0.96652634, 0.41744836, 0.34445488],\n",
       "       [0.02257927, 0.7970766 , 0.53944591, 0.16930293],\n",
       "       [0.02148256, 0.16772631, 0.00913327, 0.18179   ]])"
      ]
     },
     "execution_count": 10,
     "metadata": {},
     "output_type": "execute_result"
    }
   ],
   "source": [
    "#np.random\n",
    "\n",
    "np.random.random((3,4))"
   ]
  },
  {
   "cell_type": "code",
   "execution_count": 13,
   "id": "a58f1457-54ca-4668-ab4f-3c23d1973e71",
   "metadata": {},
   "outputs": [
    {
     "data": {
      "text/plain": [
       "array([-10,  -8,  -6,  -4,  -2,   1,   3,   5,   7,  10])"
      ]
     },
     "execution_count": 13,
     "metadata": {},
     "output_type": "execute_result"
    }
   ],
   "source": [
    "#np.linespace\n",
    "np.linspace(-10 , 10 , 10 , dtype = int)"
   ]
  },
  {
   "cell_type": "code",
   "execution_count": 14,
   "id": "1138f8a1-bb0c-4f2c-8e4a-971297d779b6",
   "metadata": {},
   "outputs": [
    {
     "data": {
      "text/plain": [
       "array([[1., 0., 0.],\n",
       "       [0., 1., 0.],\n",
       "       [0., 0., 1.]])"
      ]
     },
     "execution_count": 14,
     "metadata": {},
     "output_type": "execute_result"
    }
   ],
   "source": [
    "#np.identity\n",
    "np.identity(3)"
   ]
  },
  {
   "cell_type": "code",
   "execution_count": 17,
   "id": "44e15345-17bb-4aa3-9bd4-f5e866ce45d1",
   "metadata": {},
   "outputs": [
    {
     "data": {
      "text/plain": [
       "array([[[0, 1],\n",
       "        [2, 3]],\n",
       "\n",
       "       [[4, 5],\n",
       "        [6, 7]]])"
      ]
     },
     "execution_count": 17,
     "metadata": {},
     "output_type": "execute_result"
    }
   ],
   "source": [
    "#Array attributes\n",
    "\n",
    "a1 = np.arange(10 , dtype = np.int32)\n",
    "a2 = np.arange(12 , dtype = float).reshape(3,4)\n",
    "a3 = np.arange(8).reshape(2,2,2)\n",
    "\n",
    "a3"
   ]
  },
  {
   "cell_type": "code",
   "execution_count": 18,
   "id": "4ac68b63-2bf9-4d57-a08c-567532847b39",
   "metadata": {},
   "outputs": [
    {
     "data": {
      "text/plain": [
       "3"
      ]
     },
     "execution_count": 18,
     "metadata": {},
     "output_type": "execute_result"
    }
   ],
   "source": [
    "a3.ndim"
   ]
  },
  {
   "cell_type": "code",
   "execution_count": 20,
   "id": "94617230-5511-4144-9330-febb113ca09e",
   "metadata": {},
   "outputs": [
    {
     "name": "stdout",
     "output_type": "stream",
     "text": [
      "(2, 2, 2)\n"
     ]
    },
    {
     "data": {
      "text/plain": [
       "array([[[0, 1],\n",
       "        [2, 3]],\n",
       "\n",
       "       [[4, 5],\n",
       "        [6, 7]]])"
      ]
     },
     "execution_count": 20,
     "metadata": {},
     "output_type": "execute_result"
    }
   ],
   "source": [
    "#shape\n",
    "print(a3.shape)\n",
    "a3"
   ]
  },
  {
   "cell_type": "code",
   "execution_count": 21,
   "id": "76ff57f7-c5d4-475e-877d-b71dd0f4de9b",
   "metadata": {},
   "outputs": [
    {
     "name": "stdout",
     "output_type": "stream",
     "text": [
      "12\n"
     ]
    },
    {
     "data": {
      "text/plain": [
       "array([[ 0.,  1.,  2.,  3.],\n",
       "       [ 4.,  5.,  6.,  7.],\n",
       "       [ 8.,  9., 10., 11.]])"
      ]
     },
     "execution_count": 21,
     "metadata": {},
     "output_type": "execute_result"
    }
   ],
   "source": [
    "#size\n",
    "print(a2.size)\n",
    "a2"
   ]
  },
  {
   "cell_type": "code",
   "execution_count": 22,
   "id": "4ee315dc-f21e-4f71-8bfd-6e9750f60597",
   "metadata": {},
   "outputs": [
    {
     "data": {
      "text/plain": [
       "8"
      ]
     },
     "execution_count": 22,
     "metadata": {},
     "output_type": "execute_result"
    }
   ],
   "source": [
    "#itemsize\n",
    "a3.itemsize"
   ]
  },
  {
   "cell_type": "code",
   "execution_count": 23,
   "id": "621db328-3c29-4c8c-b0c7-1596ffcc2eb0",
   "metadata": {},
   "outputs": [
    {
     "name": "stdout",
     "output_type": "stream",
     "text": [
      "int32\n",
      "float64\n",
      "int64\n"
     ]
    }
   ],
   "source": [
    "#dtype\n",
    "print(a1.dtype)\n",
    "print(a2.dtype)\n",
    "print(a3.dtype)"
   ]
  },
  {
   "cell_type": "code",
   "execution_count": 24,
   "id": "727acd67-9c7d-45c5-8436-3b8c304740b5",
   "metadata": {},
   "outputs": [
    {
     "data": {
      "text/plain": [
       "array([[[0, 1],\n",
       "        [2, 3]],\n",
       "\n",
       "       [[4, 5],\n",
       "        [6, 7]]], dtype=int32)"
      ]
     },
     "execution_count": 24,
     "metadata": {},
     "output_type": "execute_result"
    }
   ],
   "source": [
    "#Changing Datatype\n",
    "#astype\n",
    "\n",
    "a3.astype(np.int32)"
   ]
  },
  {
   "cell_type": "code",
   "execution_count": 25,
   "id": "2adc3643-b718-4ae4-afe6-3518802375e5",
   "metadata": {},
   "outputs": [
    {
     "data": {
      "text/plain": [
       "array([[12, 13, 14, 15],\n",
       "       [16, 17, 18, 19],\n",
       "       [20, 21, 22, 23]])"
      ]
     },
     "execution_count": 25,
     "metadata": {},
     "output_type": "execute_result"
    }
   ],
   "source": [
    "#Array operations\n",
    "\n",
    "a1 = np.arange(12).reshape(3,4)\n",
    "a2 = np.arange(12 , 24).reshape(3,4)\n",
    "\n",
    "a2"
   ]
  },
  {
   "cell_type": "code",
   "execution_count": 26,
   "id": "6c2ddf82-51ac-4a7e-a16e-a32808f54e4d",
   "metadata": {},
   "outputs": [
    {
     "data": {
      "text/plain": [
       "array([[  0,   1,   4,   9],\n",
       "       [ 16,  25,  36,  49],\n",
       "       [ 64,  81, 100, 121]])"
      ]
     },
     "execution_count": 26,
     "metadata": {},
     "output_type": "execute_result"
    }
   ],
   "source": [
    "#Scalar operation\n",
    "a1 ** 2"
   ]
  },
  {
   "cell_type": "code",
   "execution_count": 27,
   "id": "2ffdaac1-38e8-4038-bda3-ce0c0e09dd4e",
   "metadata": {},
   "outputs": [
    {
     "data": {
      "text/plain": [
       "array([[ 0,  1,  2,  3],\n",
       "       [ 4,  5,  6,  7],\n",
       "       [ 8,  9, 10, 11]])"
      ]
     },
     "execution_count": 27,
     "metadata": {},
     "output_type": "execute_result"
    }
   ],
   "source": [
    "a1"
   ]
  },
  {
   "cell_type": "code",
   "execution_count": 28,
   "id": "92ab0f09-1c43-472e-8bb4-66d1abf7961f",
   "metadata": {},
   "outputs": [
    {
     "data": {
      "text/plain": [
       "array([[False, False, False,  True],\n",
       "       [False, False, False, False],\n",
       "       [False, False, False, False]])"
      ]
     },
     "execution_count": 28,
     "metadata": {},
     "output_type": "execute_result"
    }
   ],
   "source": [
    "#relational\n",
    "a2 == 15"
   ]
  },
  {
   "cell_type": "code",
   "execution_count": 29,
   "id": "d1ed5b3c-6f0c-4f37-a0c0-14075d61b498",
   "metadata": {},
   "outputs": [
    {
     "data": {
      "text/plain": [
       "array([[                   0,                    1,                16384,\n",
       "                    14348907],\n",
       "       [          4294967296,         762939453125,      101559956668416,\n",
       "           11398895185373143],\n",
       "       [ 1152921504606846976, -1261475310744950487,  1864712049423024128,\n",
       "         6839173302027254275]])"
      ]
     },
     "execution_count": 29,
     "metadata": {},
     "output_type": "execute_result"
    }
   ],
   "source": [
    "a1 ** a2"
   ]
  },
  {
   "cell_type": "code",
   "execution_count": 30,
   "id": "f4308746-4fdc-45f7-8652-fa3149c220d3",
   "metadata": {},
   "outputs": [
    {
     "data": {
      "text/plain": [
       "array([[89., 51., 25.],\n",
       "       [90., 79., 61.],\n",
       "       [38., 82., 82.]])"
      ]
     },
     "execution_count": 30,
     "metadata": {},
     "output_type": "execute_result"
    }
   ],
   "source": [
    "#Array Functions\n",
    "\n",
    "a1 = np.random.random((3,3))\n",
    "a1 = np.round(a1 * 100)\n",
    "a1"
   ]
  },
  {
   "cell_type": "code",
   "execution_count": 31,
   "id": "54f1648c-10cc-4469-831a-ad93fba1b122",
   "metadata": {},
   "outputs": [
    {
     "data": {
      "text/plain": [
       "array([304380., 330378., 125050.])"
      ]
     },
     "execution_count": 31,
     "metadata": {},
     "output_type": "execute_result"
    }
   ],
   "source": [
    "#max / min / sum / prod\n",
    "# 0 -> col and 1 -> row\n",
    "np.prod(a1 , axis = 0)"
   ]
  },
  {
   "cell_type": "code",
   "execution_count": 32,
   "id": "678c47e5-2850-440e-8dec-39eec83c714b",
   "metadata": {},
   "outputs": [
    {
     "data": {
      "text/plain": [
       "array([690.66666667, 142.88888889, 430.22222222])"
      ]
     },
     "execution_count": 32,
     "metadata": {},
     "output_type": "execute_result"
    }
   ],
   "source": [
    "#mean , median , std / var\n",
    "np.var(a1 , axis = 1)"
   ]
  },
  {
   "cell_type": "code",
   "execution_count": 33,
   "id": "36206e17-d74d-40bd-9ef4-c635d867fb9b",
   "metadata": {},
   "outputs": [
    {
     "data": {
      "text/plain": [
       "array([[ 0.86006941,  0.67022918, -0.13235175],\n",
       "       [ 0.89399666, -0.44411267, -0.96611777],\n",
       "       [ 0.29636858,  0.31322878,  0.31322878]])"
      ]
     },
     "execution_count": 33,
     "metadata": {},
     "output_type": "execute_result"
    }
   ],
   "source": [
    "#trigonometric functions\n",
    "\n",
    "np.sin(a1)"
   ]
  },
  {
   "cell_type": "code",
   "execution_count": 35,
   "id": "85e9442b-b931-49e2-a127-6e3f5257d9f7",
   "metadata": {},
   "outputs": [
    {
     "data": {
      "text/plain": [
       "array([[12, 13, 14],\n",
       "       [15, 16, 17],\n",
       "       [18, 19, 20],\n",
       "       [21, 22, 23]])"
      ]
     },
     "execution_count": 35,
     "metadata": {},
     "output_type": "execute_result"
    }
   ],
   "source": [
    "#dot product\n",
    "\n",
    "a2 = np.arange(12).reshape(3 , 4)\n",
    "a3 = np.arange(12 , 24).reshape(4,3)\n",
    "\n",
    "a3"
   ]
  },
  {
   "cell_type": "code",
   "execution_count": 36,
   "id": "a5efea8c-b6bd-43ed-90a2-d26c68e617f9",
   "metadata": {},
   "outputs": [
    {
     "data": {
      "text/plain": [
       "array([[4.48961282e+38, 1.40934908e+22, 7.20048993e+10],\n",
       "       [1.22040329e+39, 2.03828107e+34, 3.10429794e+26],\n",
       "       [3.18559318e+16, 4.09399696e+35, 4.09399696e+35]])"
      ]
     },
     "execution_count": 36,
     "metadata": {},
     "output_type": "execute_result"
    }
   ],
   "source": [
    "#log and exponents \n",
    "np.exp(a1)"
   ]
  },
  {
   "cell_type": "code",
   "execution_count": 37,
   "id": "2eec3392-7163-4687-88e9-7f2ff5ec77d8",
   "metadata": {},
   "outputs": [
    {
     "data": {
      "text/plain": [
       "array([[87., 75., 94.],\n",
       "       [38., 85., 85.]])"
      ]
     },
     "execution_count": 37,
     "metadata": {},
     "output_type": "execute_result"
    }
   ],
   "source": [
    "# round / floor/ ceil\n",
    "np.ceil(np.random.random((2,3)) * 100)"
   ]
  },
  {
   "cell_type": "code",
   "execution_count": 44,
   "id": "63255d37-b14b-4aab-9747-b26402185de8",
   "metadata": {},
   "outputs": [
    {
     "data": {
      "text/plain": [
       "array([[[0, 1],\n",
       "        [2, 3]],\n",
       "\n",
       "       [[4, 5],\n",
       "        [6, 7]]])"
      ]
     },
     "execution_count": 44,
     "metadata": {},
     "output_type": "execute_result"
    }
   ],
   "source": [
    "#indexing and slicing\n",
    "\n",
    "a1 = np.arange(10)\n",
    "a2 = np.arange(12).reshape(3,4)\n",
    "a3 = np.arange(8).reshape(2,2,2)\n",
    "a3"
   ]
  },
  {
   "cell_type": "code",
   "execution_count": 43,
   "id": "c74a24c2-3c19-4ad4-9ffd-c8dcc7fd841b",
   "metadata": {},
   "outputs": [
    {
     "data": {
      "text/plain": [
       "np.int64(4)"
      ]
     },
     "execution_count": 43,
     "metadata": {},
     "output_type": "execute_result"
    }
   ],
   "source": [
    "a2[1 , 0]"
   ]
  },
  {
   "cell_type": "code",
   "execution_count": 45,
   "id": "cd9cd626-096c-43a0-8f18-4a0ede09e12b",
   "metadata": {},
   "outputs": [
    {
     "data": {
      "text/plain": [
       "np.int64(5)"
      ]
     },
     "execution_count": 45,
     "metadata": {},
     "output_type": "execute_result"
    }
   ],
   "source": [
    "a3[1, 0,1]"
   ]
  },
  {
   "cell_type": "code",
   "execution_count": 46,
   "id": "cf0442d3-4e00-48a6-b422-0765ac1e9c91",
   "metadata": {},
   "outputs": [
    {
     "data": {
      "text/plain": [
       "np.int64(6)"
      ]
     },
     "execution_count": 46,
     "metadata": {},
     "output_type": "execute_result"
    }
   ],
   "source": [
    "a3[1, 1,0]"
   ]
  },
  {
   "cell_type": "code",
   "execution_count": 49,
   "id": "864a1cbf-7190-420a-ad9e-2c006699f5a8",
   "metadata": {},
   "outputs": [
    {
     "data": {
      "text/plain": [
       "array([[ 0,  1,  2,  3],\n",
       "       [ 4,  5,  6,  7],\n",
       "       [ 8,  9, 10, 11]])"
      ]
     },
     "execution_count": 49,
     "metadata": {},
     "output_type": "execute_result"
    }
   ],
   "source": [
    "a2"
   ]
  },
  {
   "cell_type": "code",
   "execution_count": 48,
   "id": "4ff9866f-9188-4776-8fad-84bd51e31a43",
   "metadata": {},
   "outputs": [
    {
     "data": {
      "text/plain": [
       "array([2, 4])"
      ]
     },
     "execution_count": 48,
     "metadata": {},
     "output_type": "execute_result"
    }
   ],
   "source": [
    "a1[2 : 5 : 2]"
   ]
  },
  {
   "cell_type": "code",
   "execution_count": 50,
   "id": "5b2d0f50-3ed4-4905-a2c2-6ee14108ff47",
   "metadata": {},
   "outputs": [
    {
     "data": {
      "text/plain": [
       "array([[1, 3],\n",
       "       [5, 7]])"
      ]
     },
     "execution_count": 50,
     "metadata": {},
     "output_type": "execute_result"
    }
   ],
   "source": [
    "a2[0:2,1::2]\n"
   ]
  },
  {
   "cell_type": "code",
   "execution_count": 52,
   "id": "5b9a1d44-4ab2-4882-a4e7-2cc251e633dd",
   "metadata": {},
   "outputs": [
    {
     "data": {
      "text/plain": [
       "array([[ 1,  3],\n",
       "       [ 9, 11]])"
      ]
     },
     "execution_count": 52,
     "metadata": {},
     "output_type": "execute_result"
    }
   ],
   "source": [
    "a2[::2 , 1 :: 2]"
   ]
  },
  {
   "cell_type": "code",
   "execution_count": 54,
   "id": "cc9cb7dd-63f4-4fc2-b9aa-5846469f4dae",
   "metadata": {},
   "outputs": [
    {
     "data": {
      "text/plain": [
       "array([4, 7])"
      ]
     },
     "execution_count": 54,
     "metadata": {},
     "output_type": "execute_result"
    }
   ],
   "source": [
    "a2[1 , ::3]"
   ]
  },
  {
   "cell_type": "code",
   "execution_count": 56,
   "id": "48b662b2-d887-4e3f-b165-1c5289bb5327",
   "metadata": {},
   "outputs": [
    {
     "data": {
      "text/plain": [
       "array([0, 1, 2, 3])"
      ]
     },
     "execution_count": 56,
     "metadata": {},
     "output_type": "execute_result"
    }
   ],
   "source": [
    "a2[0,:]"
   ]
  },
  {
   "cell_type": "code",
   "execution_count": 58,
   "id": "524f2b63-f01b-4ce0-8772-b231fed28c73",
   "metadata": {},
   "outputs": [
    {
     "data": {
      "text/plain": [
       "array([ 2,  6, 10])"
      ]
     },
     "execution_count": 58,
     "metadata": {},
     "output_type": "execute_result"
    }
   ],
   "source": [
    "a2[:,2]\n"
   ]
  },
  {
   "cell_type": "code",
   "execution_count": 59,
   "id": "4184e764-31e3-4f63-8261-06be4910ac70",
   "metadata": {},
   "outputs": [
    {
     "data": {
      "text/plain": [
       "array([[ 5,  6],\n",
       "       [ 9, 10]])"
      ]
     },
     "execution_count": 59,
     "metadata": {},
     "output_type": "execute_result"
    }
   ],
   "source": [
    "a2[1:,1:3]"
   ]
  },
  {
   "cell_type": "code",
   "execution_count": 61,
   "id": "9cda7aa6-57ea-496c-8d34-7786624057c0",
   "metadata": {},
   "outputs": [
    {
     "data": {
      "text/plain": [
       "array([[[ 0,  1,  2],\n",
       "        [ 3,  4,  5],\n",
       "        [ 6,  7,  8]],\n",
       "\n",
       "       [[ 9, 10, 11],\n",
       "        [12, 13, 14],\n",
       "        [15, 16, 17]],\n",
       "\n",
       "       [[18, 19, 20],\n",
       "        [21, 22, 23],\n",
       "        [24, 25, 26]]])"
      ]
     },
     "execution_count": 61,
     "metadata": {},
     "output_type": "execute_result"
    }
   ],
   "source": [
    "a3 = np.arange(27).reshape(3,3,3)\n",
    "a3"
   ]
  },
  {
   "cell_type": "code",
   "execution_count": 62,
   "id": "1286be84-774c-4b24-9da6-ea3bdf18e44b",
   "metadata": {},
   "outputs": [
    {
     "data": {
      "text/plain": [
       "array([[ 0,  2],\n",
       "       [18, 20]])"
      ]
     },
     "execution_count": 62,
     "metadata": {},
     "output_type": "execute_result"
    }
   ],
   "source": [
    "a3[::2,0,::2]\n"
   ]
  },
  {
   "cell_type": "code",
   "execution_count": 63,
   "id": "4bcd348d-4761-4160-bd3f-979c85dce9e2",
   "metadata": {},
   "outputs": [
    {
     "data": {
      "text/plain": [
       "array([[22, 23],\n",
       "       [25, 26]])"
      ]
     },
     "execution_count": 63,
     "metadata": {},
     "output_type": "execute_result"
    }
   ],
   "source": [
    "a3[2,1:,1:]"
   ]
  },
  {
   "cell_type": "code",
   "execution_count": 64,
   "id": "ce9a2dd1-5b45-4ce5-b1fd-bc4b6a9ec5ef",
   "metadata": {},
   "outputs": [
    {
     "data": {
      "text/plain": [
       "array([3, 4, 5])"
      ]
     },
     "execution_count": 64,
     "metadata": {},
     "output_type": "execute_result"
    }
   ],
   "source": [
    "a3[0,1,:]"
   ]
  },
  {
   "cell_type": "code",
   "execution_count": 66,
   "id": "f38ca607-556c-4a20-92de-88e50323693d",
   "metadata": {},
   "outputs": [
    {
     "name": "stdout",
     "output_type": "stream",
     "text": [
      "0\n",
      "1\n",
      "2\n",
      "3\n",
      "4\n",
      "5\n",
      "6\n",
      "7\n",
      "8\n",
      "9\n"
     ]
    }
   ],
   "source": [
    "# iterating\n",
    "\n",
    "a1\n",
    "\n",
    "for i in a1 : \n",
    "    print(i)"
   ]
  },
  {
   "cell_type": "code",
   "execution_count": 67,
   "id": "90a75105-fd1f-4865-b1bc-63ac79025acf",
   "metadata": {},
   "outputs": [
    {
     "data": {
      "text/plain": [
       "array([[ 0,  1,  2,  3],\n",
       "       [ 4,  5,  6,  7],\n",
       "       [ 8,  9, 10, 11]])"
      ]
     },
     "execution_count": 67,
     "metadata": {},
     "output_type": "execute_result"
    }
   ],
   "source": [
    "a2"
   ]
  },
  {
   "cell_type": "code",
   "execution_count": 68,
   "id": "a9167ff3-354a-45b5-aa98-211214fa3feb",
   "metadata": {},
   "outputs": [
    {
     "name": "stdout",
     "output_type": "stream",
     "text": [
      "[0 1 2 3]\n",
      "[4 5 6 7]\n",
      "[ 8  9 10 11]\n"
     ]
    }
   ],
   "source": [
    "for i in a2 :\n",
    "    print(i)"
   ]
  },
  {
   "cell_type": "code",
   "execution_count": 69,
   "id": "1947236c-e3c4-4701-94a5-ac57190f0871",
   "metadata": {},
   "outputs": [
    {
     "data": {
      "text/plain": [
       "array([[[ 0,  1,  2],\n",
       "        [ 3,  4,  5],\n",
       "        [ 6,  7,  8]],\n",
       "\n",
       "       [[ 9, 10, 11],\n",
       "        [12, 13, 14],\n",
       "        [15, 16, 17]],\n",
       "\n",
       "       [[18, 19, 20],\n",
       "        [21, 22, 23],\n",
       "        [24, 25, 26]]])"
      ]
     },
     "execution_count": 69,
     "metadata": {},
     "output_type": "execute_result"
    }
   ],
   "source": [
    "a3"
   ]
  },
  {
   "cell_type": "code",
   "execution_count": 70,
   "id": "feddf64d-ea10-42fc-8e05-419d97c22d91",
   "metadata": {},
   "outputs": [
    {
     "name": "stdout",
     "output_type": "stream",
     "text": [
      "[[0 1 2]\n",
      " [3 4 5]\n",
      " [6 7 8]]\n",
      "[[ 9 10 11]\n",
      " [12 13 14]\n",
      " [15 16 17]]\n",
      "[[18 19 20]\n",
      " [21 22 23]\n",
      " [24 25 26]]\n"
     ]
    }
   ],
   "source": [
    "for i in a3 : \n",
    "    print(i)"
   ]
  },
  {
   "cell_type": "code",
   "execution_count": 71,
   "id": "0d5e5fa9-2e72-4075-9feb-066d58fb31e6",
   "metadata": {},
   "outputs": [
    {
     "name": "stdout",
     "output_type": "stream",
     "text": [
      "0\n",
      "1\n",
      "2\n",
      "3\n",
      "4\n",
      "5\n",
      "6\n",
      "7\n",
      "8\n",
      "9\n",
      "10\n",
      "11\n",
      "12\n",
      "13\n",
      "14\n",
      "15\n",
      "16\n",
      "17\n",
      "18\n",
      "19\n",
      "20\n",
      "21\n",
      "22\n",
      "23\n",
      "24\n",
      "25\n",
      "26\n"
     ]
    }
   ],
   "source": [
    "for i in np.nditer(a3) : \n",
    "    print(i)"
   ]
  },
  {
   "cell_type": "code",
   "execution_count": 72,
   "id": "9f8c8195-ede4-43e8-b9b4-0d380e02d9f6",
   "metadata": {},
   "outputs": [
    {
     "data": {
      "text/plain": [
       "array([[ 0,  4,  8],\n",
       "       [ 1,  5,  9],\n",
       "       [ 2,  6, 10],\n",
       "       [ 3,  7, 11]])"
      ]
     },
     "execution_count": 72,
     "metadata": {},
     "output_type": "execute_result"
    }
   ],
   "source": [
    "#reshap\n",
    "#transpose\n",
    "np.transpose(a2)"
   ]
  },
  {
   "cell_type": "code",
   "execution_count": 73,
   "id": "31609554-5e67-4e84-b429-47b53645c9af",
   "metadata": {},
   "outputs": [
    {
     "data": {
      "text/plain": [
       "array([[ 0,  4,  8],\n",
       "       [ 1,  5,  9],\n",
       "       [ 2,  6, 10],\n",
       "       [ 3,  7, 11]])"
      ]
     },
     "execution_count": 73,
     "metadata": {},
     "output_type": "execute_result"
    }
   ],
   "source": [
    "a2.T"
   ]
  },
  {
   "cell_type": "code",
   "execution_count": 75,
   "id": "3cb25f7b-ad69-46dd-aa80-c38cfdc5954f",
   "metadata": {},
   "outputs": [
    {
     "data": {
      "text/plain": [
       "array([ 0,  1,  2,  3,  4,  5,  6,  7,  8,  9, 10, 11, 12, 13, 14, 15, 16,\n",
       "       17, 18, 19, 20, 21, 22, 23, 24, 25, 26])"
      ]
     },
     "execution_count": 75,
     "metadata": {},
     "output_type": "execute_result"
    }
   ],
   "source": [
    "a3.ravel()"
   ]
  },
  {
   "cell_type": "code",
   "execution_count": 76,
   "id": "842cb1c8-9b91-4208-8f94-bf355f291117",
   "metadata": {},
   "outputs": [
    {
     "data": {
      "text/plain": [
       "array([[12, 13, 14, 15],\n",
       "       [16, 17, 18, 19],\n",
       "       [20, 21, 22, 23]])"
      ]
     },
     "execution_count": 76,
     "metadata": {},
     "output_type": "execute_result"
    }
   ],
   "source": [
    "#Stacking\n",
    "\n",
    "#horizontal stacking\n",
    "\n",
    "a4 = np.arange(12).reshape(3,4)\n",
    "a5 = np.arange(12 , 24).reshape(3,4)\n",
    "a5"
   ]
  },
  {
   "cell_type": "code",
   "execution_count": 77,
   "id": "008aa5b3-1713-404b-bf82-e9108ff53561",
   "metadata": {},
   "outputs": [
    {
     "data": {
      "text/plain": [
       "array([[ 0,  1,  2,  3, 12, 13, 14, 15],\n",
       "       [ 4,  5,  6,  7, 16, 17, 18, 19],\n",
       "       [ 8,  9, 10, 11, 20, 21, 22, 23]])"
      ]
     },
     "execution_count": 77,
     "metadata": {},
     "output_type": "execute_result"
    }
   ],
   "source": [
    "np.hstack((a4,a5))"
   ]
  },
  {
   "cell_type": "code",
   "execution_count": 78,
   "id": "b4b2105a-37d7-401b-8b41-7ed73674eec1",
   "metadata": {},
   "outputs": [
    {
     "data": {
      "text/plain": [
       "array([[ 0,  1,  2,  3],\n",
       "       [ 4,  5,  6,  7],\n",
       "       [ 8,  9, 10, 11],\n",
       "       [12, 13, 14, 15],\n",
       "       [16, 17, 18, 19],\n",
       "       [20, 21, 22, 23]])"
      ]
     },
     "execution_count": 78,
     "metadata": {},
     "output_type": "execute_result"
    }
   ],
   "source": [
    "np.vstack((a4,a5))"
   ]
  },
  {
   "cell_type": "code",
   "execution_count": null,
   "id": "7eb39bcc-9e5a-43e9-973a-b68ef60b6972",
   "metadata": {},
   "outputs": [],
   "source": []
  }
 ],
 "metadata": {
  "kernelspec": {
   "display_name": "Python 3 (ipykernel)",
   "language": "python",
   "name": "python3"
  },
  "language_info": {
   "codemirror_mode": {
    "name": "ipython",
    "version": 3
   },
   "file_extension": ".py",
   "mimetype": "text/x-python",
   "name": "python",
   "nbconvert_exporter": "python",
   "pygments_lexer": "ipython3",
   "version": "3.12.4"
  }
 },
 "nbformat": 4,
 "nbformat_minor": 5
}
